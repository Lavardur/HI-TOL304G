{
  "nbformat": 4,
  "nbformat_minor": 0,
  "metadata": {
    "colab": {
      "provenance": []
    },
    "kernelspec": {
      "name": "python3",
      "display_name": "Python 3"
    },
    "language_info": {
      "name": "python"
    }
  },
  "cells": [
    {
      "cell_type": "markdown",
      "source": [
        "# 15  Sameining nafnaskrár og einkunnaskrár"
      ],
      "metadata": {
        "id": "nvbeLdt3dWlz"
      }
    },
    {
      "cell_type": "markdown",
      "source": [
        "## 1. Skrá lesin."
      ],
      "metadata": {
        "id": "BpE1yGJPddvZ"
      }
    },
    {
      "cell_type": "code",
      "execution_count": null,
      "metadata": {
        "id": "sEw1vaJB2upB",
        "colab": {
          "base_uri": "https://localhost:8080/"
        },
        "outputId": "9195ede6-8e09-4328-f67d-2874abc66d47"
      },
      "outputs": [
        {
          "output_type": "stream",
          "name": "stdout",
          "text": [
            "0176 7.0\n",
            "0542 8.0\n",
            "0970 9.5\n",
            "1419 6.5\n",
            "1577 7.0\n",
            "2785 9.0\n",
            "4218 7.0\n",
            "4854 9.0\n",
            "5469 10.0\n",
            "6324 6.5\n",
            "6558 8.5\n",
            "7923 5.5\n",
            "8003 9.5\n",
            "8148 5.0\n",
            "8492 7.5\n",
            "9058 7.5\n",
            "9134 8.0\n",
            "9158 8.0\n",
            "9340 6.5\n",
            "9572 8.0\n",
            "9576 5.5\n",
            "9595 8.5\n",
            "9649 6.5\n",
            "9706 9.0\n"
          ]
        }
      ],
      "source": [
        "from urllib.request import urlopen\n",
        "f = urlopen(\" https://cs.hi.is/python/einkunn.txt\")\n",
        "eink_tafla = {}\n",
        "for lina in f:\n",
        "   (nr,einkunn) = lina.decode().split()\n",
        "   eink_tafla[nr] = einkunn\n",
        "\n",
        "for (nr,einkunn) in eink_tafla.items():\n",
        "   print(f\"{nr} {einkunn}\")"
      ]
    },
    {
      "cell_type": "markdown",
      "source": [
        "### Uppflettitafla."
      ],
      "metadata": {
        "id": "dGFWkhxhdr3_"
      }
    },
    {
      "cell_type": "code",
      "source": [
        "from urllib.request import urlopen\n",
        "f = urlopen(\" https://cs.hi.is/python/nofn.txt\")\n",
        "nafn_tafla = {}\n",
        "for lina in f:\n",
        "   (nr,nafn) = lina.decode().strip().split(maxsplit=1)\n",
        "   nafn_tafla[nr] = nafn\n",
        "\n",
        "for (nr,nafn) in nafn_tafla.items():\n",
        "   print(f\"{nr} {nafn}\")\n",
        "\n"
      ],
      "metadata": {
        "colab": {
          "base_uri": "https://localhost:8080/"
        },
        "id": "3yRy7MlteOUG",
        "outputId": "f5f41ac3-363e-4389-e440-7c6d6eff2559"
      },
      "execution_count": null,
      "outputs": [
        {
          "output_type": "stream",
          "name": "stdout",
          "text": [
            "0176 Kjartan Valur Jónsson\n",
            "0542 Aðalheiður Pétursdóttir\n",
            "0970 Sigrún Ása Jónsdóttir\n",
            "1419 Erla Ýr Guðnadóttir\n",
            "1577 Hulda Ósk Jónasdóttir\n",
            "2785 Bjarki Már Sveinsson\n",
            "4218 Kristín Fjóludóttir\n",
            "4854 Anton Ingi Þórsson\n",
            "5469 Íris María Birgisdóttir\n",
            "6324 Ívar Sigurðsson\n",
            "6558 Ágúst Guðni Ingason\n",
            "7923 Steinunn Guðlaug Gunnarsdóttir\n",
            "8003 Eydís Þorsteinsdóttir\n",
            "8148 Signý Guðrún Pálsdóttir\n",
            "8492 Andri Oddur Steinarsson\n",
            "9058 Elías Ari Heimisson\n",
            "9134 Birta Lárusdóttir\n",
            "9158 Anna Sveinbjörnsdóttir\n",
            "9340 Bjarni Rúnar Kjartansson\n",
            "9572 Arna Þórisdóttir\n",
            "9576 Mark Johnson\n",
            "9595 Víðir Kristjánsson\n",
            "9649 Anna Kristinsdóttir\n",
            "9706 Jónas Valdimarsson\n"
          ]
        }
      ]
    },
    {
      "cell_type": "markdown",
      "source": [
        "### 3. Útskrift lista."
      ],
      "metadata": {
        "id": "M5HmMruNe5eP"
      }
    },
    {
      "cell_type": "code",
      "source": [
        "for (nr,einkunn) in eink_tafla.items():\n",
        "  print(nr, nafn_tafla[nr], einkunn)"
      ],
      "metadata": {
        "colab": {
          "base_uri": "https://localhost:8080/"
        },
        "id": "6w2hycyvpgiD",
        "outputId": "5a07cb2e-cd50-4fa8-9fbb-f5c6d792c3a0"
      },
      "execution_count": null,
      "outputs": [
        {
          "output_type": "stream",
          "name": "stdout",
          "text": [
            "0176 Kjartan Valur Jónsson 7.0\n",
            "0542 Aðalheiður Pétursdóttir 8.0\n",
            "0970 Sigrún Ása Jónsdóttir 9.5\n",
            "1419 Erla Ýr Guðnadóttir 6.5\n",
            "1577 Hulda Ósk Jónasdóttir 7.0\n",
            "2785 Bjarki Már Sveinsson 9.0\n",
            "4218 Kristín Fjóludóttir 7.0\n",
            "4854 Anton Ingi Þórsson 9.0\n",
            "5469 Íris María Birgisdóttir 10.0\n",
            "6324 Ívar Sigurðsson 6.5\n",
            "6558 Ágúst Guðni Ingason 8.5\n",
            "7923 Steinunn Guðlaug Gunnarsdóttir 5.5\n",
            "8003 Eydís Þorsteinsdóttir 9.5\n",
            "8148 Signý Guðrún Pálsdóttir 5.0\n",
            "8492 Andri Oddur Steinarsson 7.5\n",
            "9058 Elías Ari Heimisson 7.5\n",
            "9134 Birta Lárusdóttir 8.0\n",
            "9158 Anna Sveinbjörnsdóttir 8.0\n",
            "9340 Bjarni Rúnar Kjartansson 6.5\n",
            "9572 Arna Þórisdóttir 8.0\n",
            "9576 Mark Johnson 5.5\n",
            "9595 Víðir Kristjánsson 8.5\n",
            "9649 Anna Kristinsdóttir 6.5\n",
            "9706 Jónas Valdimarsson 9.0\n"
          ]
        }
      ]
    }
  ]
}